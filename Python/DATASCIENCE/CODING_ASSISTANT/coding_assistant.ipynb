{
 "cells": [
  {
   "cell_type": "code",
   "execution_count": 1,
   "id": "1404433c",
   "metadata": {},
   "outputs": [],
   "source": [
    "import sounddevice as sd\n",
    "import numpy as np\n",
    "import scipy.io.wavfile as wav"
   ]
  },
  {
   "cell_type": "markdown",
   "id": "5862bf82",
   "metadata": {},
   "source": [
    "### Getting Audio"
   ]
  },
  {
   "cell_type": "code",
   "execution_count": null,
   "id": "c6ca07eb",
   "metadata": {
    "scrolled": true
   },
   "outputs": [],
   "source": [
    "duration = 5\n",
    "samplerate = 44100\n",
    "print(sd.query_devices())"
   ]
  },
  {
   "cell_type": "code",
   "execution_count": 3,
   "id": "39aab776",
   "metadata": {},
   "outputs": [
    {
     "name": "stdout",
     "output_type": "stream",
     "text": [
      "{'name': 'Wave Link Stream (Wave Link Stream)', 'index': 84, 'hostapi': 4, 'max_input_channels': 2, 'max_output_channels': 0, 'default_low_input_latency': 0.01, 'default_low_output_latency': 0.01, 'default_high_input_latency': 0.08533333333333333, 'default_high_output_latency': 0.08533333333333333, 'default_samplerate': 48000.0}\n",
      "Recording from device ID: 84\n",
      "Done recording.\n"
     ]
    }
   ],
   "source": [
    "# Query devices to make sure the chosen one is available and its parameters\n",
    "print(sd.query_devices(84))  # Change the index and hostapi as needed\n",
    "\n",
    "# Define the duration, sample rate, and device ID\n",
    "duration = 10  # seconds\n",
    "samplerate = 48000  # Hertz\n",
    "\n",
    "# Record audio from the specified device\n",
    "print(\"Recording from device ID:\", 84)\n",
    "myrecording = sd.rec(frames=int(duration * samplerate),\n",
    "                     samplerate=samplerate,\n",
    "                     channels=2,\n",
    "                     dtype='float32',\n",
    "                     device=84)\n",
    "sd.wait()  # Wait until recording is finished\n",
    "print(\"Done recording.\")"
   ]
  },
  {
   "cell_type": "code",
   "execution_count": 4,
   "id": "af2731e1",
   "metadata": {},
   "outputs": [],
   "source": [
    "myrecording_int16 = (np.iinfo(np.int16).max * myrecording).astype(np.int16)\n",
    "\n",
    "wav.write('output.wav', samplerate, myrecording_int16)"
   ]
  },
  {
   "cell_type": "markdown",
   "id": "8f287b25",
   "metadata": {},
   "source": [
    "### Sedning  audio file to openai api for transcription"
   ]
  },
  {
   "cell_type": "code",
   "execution_count": 1,
   "id": "2af53cb1",
   "metadata": {},
   "outputs": [],
   "source": [
    "import json\n",
    "\n",
    "def get_keys(path):\n",
    "    with open(path) as f:\n",
    "        return json.load(f)\n",
    "\n",
    "key = get_keys('../../../../.secret/secrets.json')[\"OPENAI_API_KEY\"]"
   ]
  },
  {
   "cell_type": "code",
   "execution_count": 6,
   "id": "56b007bb",
   "metadata": {},
   "outputs": [],
   "source": [
    "from openai import OpenAI\n",
    "client = OpenAI(api_key=key)\n",
    "\n",
    "audio_file= open(\"output.wav\", \"rb\")\n",
    "transcript = client.audio.transcriptions.create(\n",
    "  model=\"whisper-1\", \n",
    "  file=audio_file\n",
    ")"
   ]
  },
  {
   "cell_type": "code",
   "execution_count": 7,
   "id": "fada67a4",
   "metadata": {},
   "outputs": [
    {
     "data": {
      "text/plain": [
       "'When using the inet ntop function, how do I get the port the client connected on?'"
      ]
     },
     "execution_count": 7,
     "metadata": {},
     "output_type": "execute_result"
    }
   ],
   "source": [
    "transcript.text"
   ]
  },
  {
   "cell_type": "markdown",
   "id": "de267f20",
   "metadata": {},
   "source": [
    "### Sending audio transcript to chatgpt"
   ]
  },
  {
   "cell_type": "code",
   "execution_count": 7,
   "id": "33b84907",
   "metadata": {},
   "outputs": [],
   "source": [
    "response = client.chat.completions.create(\n",
    "    model=\"gpt-3.5-turbo-1106\",\n",
    "    messages=[\n",
    "        {\n",
    "          \"role\": \"system\",\n",
    "          \"content\": \"You are a helpful assistant that is helping a student learn the C programming language. You should never respond with code but rather explanations so the student can better understand the problem and answer at hand.\"\n",
    "        },\n",
    "        {\n",
    "          \"role\": \"user\",\n",
    "          \"content\": transcript.text,\n",
    "        },    \n",
    "    ],\n",
    "    temperature=1,\n",
    "    max_tokens=256,\n",
    "    top_p=1,\n",
    "    frequency_penalty=0,\n",
    "    presence_penalty=0\n",
    ")"
   ]
  },
  {
   "cell_type": "code",
   "execution_count": 8,
   "id": "3d695fdb",
   "metadata": {},
   "outputs": [
    {
     "data": {
      "text/plain": [
       "\"When using the `inet_ntop` function, you can't directly get the port the client connected on because `inet_ntop` function only converts the network address from binary to presentation format. To get the port the client connected on, you need to use the `struct sockaddr_in` or `struct sockaddr_in6` (depending on whether you are using IPv4 or IPv6) to store client address information.\\n\\nAfter accepting a connection using the `accept` function, you can use the `getpeername` function to retrieve the address and port information into a `struct sockaddr` and then cast it to `struct sockaddr_in` or `struct sockaddr_in6` depending on the protocol.\\n\\nOnce you have the `struct sockaddr_in` or `struct sockaddr_in6` you can then access the port using the `sin_port` member for IPv4, or the `sin6_port` member for IPv6.\\n\\nRemember that network byte order (big-endian) is used for port numbers, so you may need to convert the port number to host byte order (using the `ntohs` function) before using it in your application.\""
      ]
     },
     "execution_count": 8,
     "metadata": {},
     "output_type": "execute_result"
    }
   ],
   "source": [
    "response.choices[0].message.content"
   ]
  },
  {
   "cell_type": "markdown",
   "id": "59ca8fb7",
   "metadata": {},
   "source": [
    "### Sending chatgpt to whisper for voice"
   ]
  },
  {
   "cell_type": "code",
   "execution_count": 9,
   "id": "3175a3a6",
   "metadata": {},
   "outputs": [],
   "source": [
    "response = client.audio.speech.create(\n",
    "    model=\"tts-1\",\n",
    "    voice=\"shimmer\",\n",
    "    input=response.choices[0].message.content,\n",
    ")\n",
    "\n",
    "response.stream_to_file(\"answer.mp3\")"
   ]
  }
 ],
 "metadata": {
  "kernelspec": {
   "display_name": "Python 3 (ipykernel)",
   "language": "python",
   "name": "python3"
  },
  "language_info": {
   "codemirror_mode": {
    "name": "ipython",
    "version": 3
   },
   "file_extension": ".py",
   "mimetype": "text/x-python",
   "name": "python",
   "nbconvert_exporter": "python",
   "pygments_lexer": "ipython3",
   "version": "3.11.5"
  }
 },
 "nbformat": 4,
 "nbformat_minor": 5
}
